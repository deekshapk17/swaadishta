{
 "cells": [
  {
   "cell_type": "code",
   "execution_count": 3,
   "id": "53986ecd",
   "metadata": {},
   "outputs": [],
   "source": [
    "import requests\n",
    "from bs4 import BeautifulSoup\n",
    "import json\n",
    "url = \"https://www.indianhealthyrecipes.com/\"\n",
    "response = requests.get(url)\n",
    "soup = BeautifulSoup(response.content, 'html.parser')\n",
    "recipes = soup.find_all('div', class_='kt-blocks-post-grid-item-inner') \n",
    "title = []\n",
    "links = []\n",
    "for de in recipes:\n",
    "    titles = de.find('h2', class_='entry-title').text.strip()\n",
    "    title.append(titles)\n",
    "    link = de.find('a', href=True)['href']\n",
    "    links.append(link)\n",
    "new_recipes = []  # List to hold dictionaries for each recipe\n",
    "\n",
    "for k in links:\n",
    "    response_recipe = requests.get(k)\n",
    "    if response_recipe.status_code != 403:  # Check if the request was successful\n",
    "        r = requests.get(k)\n",
    "        soup = BeautifulSoup(r.content, 'html.parser')\n",
    "        titles = soup.find_all('h1', class_='entry-title')\n",
    "        for title in titles:\n",
    "            title_text = title.text.strip()\n",
    "\n",
    "        ingredients = soup.find_all('ul', class_='wprm-recipe-ingredients')\n",
    "        ingredient_text = [ingredient.text.strip() for ingredient in ingredients]\n",
    "\n",
    "        instruction = soup.find_all('ul', class_='wprm-recipe-instructions')\n",
    "        instruction_text = [instructions.text.strip() for instructions in instruction]\n",
    "\n",
    "        # Create a dictionary for the current recipe\n",
    "        recipe_data = {\n",
    "            'Title': title_text,\n",
    "            'Ingredients': ', '.join(ingredient_text),\n",
    "            'Instructions': ', '.join(instruction_text)\n",
    "        }\n",
    "\n",
    "        new_recipes.append(recipe_data)  # Append the dictionary to the list of recipes\n",
    "        \n",
    "\n",
    "# Write the list of dictionaries to a JSON file\n",
    "with open('swaad.json', 'w') as jsonfile:\n",
    "    json.dump(new_recipes, jsonfile, indent=4)"
   ]
  },
  {
   "cell_type": "code",
   "execution_count": null,
   "id": "037c4aef",
   "metadata": {},
   "outputs": [],
   "source": []
  }
 ],
 "metadata": {
  "kernelspec": {
   "display_name": "Python 3 (ipykernel)",
   "language": "python",
   "name": "python3"
  },
  "language_info": {
   "codemirror_mode": {
    "name": "ipython",
    "version": 3
   },
   "file_extension": ".py",
   "mimetype": "text/x-python",
   "name": "python",
   "nbconvert_exporter": "python",
   "pygments_lexer": "ipython3",
   "version": "3.11.5"
  }
 },
 "nbformat": 4,
 "nbformat_minor": 5
}
